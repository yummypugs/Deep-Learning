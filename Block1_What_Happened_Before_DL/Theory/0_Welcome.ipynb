{
 "cells": [
  {
   "cell_type": "markdown",
   "metadata": {},
   "source": [
    "# Welcome to the course\n",
    "\n",
    "## Goals\n",
    " - Basic introduction to deep learning\n",
    " - Main concepts and intuition of artifical neural networks and deep learning\n",
    " - Central topics to make deep learning work: \n",
    "         - Optimization\n",
    "         - Expressivness and how to control it (how well the networks learn)/ generalization\n",
    "         - Right architecture for the right kind of problem\n",
    "         -> How to generalize?\n",
    " - Intuition based -> not too formal\n",
    " - Practical focus -> implement every day!\n",
    "\n",
    "\n",
    "## Limits\n",
    "- Basic introduction, tip of the ice-berg\n",
    "- Foundation for more advanced topics such as Natural Language Processing, AI the Frontier\n",
    "- Intense, short time frame\n",
    " \n",
    "## After this class you should be able to..\n",
    "- Implement deep learning for a variety of problems: time series, images, some (basic) language related problems\n",
    "- Chose and craft the architecture of feed forward, Long Short Term Memory and Convolutional Neural Networks in line with the problem your are facing and initialize and optimize the networks \n",
    "- Complete a basic data-science project that involves deep learning end to end\n",
    "\n"
   ]
  },
  {
   "cell_type": "markdown",
   "metadata": {},
   "source": [
    "## Class attendance\n",
    "- I encourage you to attend and actively participate in the class (ask questions, answer questions)\n",
    "- The past shows that students who attend and actively particiapte in the class, perform, on average, 10-20 percentage points better than students who don't"
   ]
  },
  {
   "cell_type": "markdown",
   "metadata": {},
   "source": [
    "# General structure\n",
    "\n",
    "## Topics of the days\n",
    "\n",
    "- see __[link HERE](https://docs.google.com/spreadsheets/d/1lkqZMJaQazJklfiKjcp89lcInoMcWfBrxtYcbe00Ngg/edit?usp=sharing)__    \n",
    "\n",
    "\n",
    "## What will a day look like?\n",
    "(1) Theory\n",
    "<br>\n",
    "(2) Coding/implementation\n",
    "<br>\n",
    "(3) Exercises/assessment\n",
    "\n",
    "\n",
    "\n",
    "# Access to training material\n",
    "\n",
    "## What is Google Colaboratory?\n",
    "- Jupyter notebooks for Google\n",
    "- One GPU for up to 12 hours\n",
    "\n",
    "## Where to find the shared material?\n",
    "\n",
    "\n",
    "see __[link HERE](https://drive.google.com/drive/folders/1nBqnTpjUrzGHC7d9nUYtnWTLD873s2Fu?usp=sharing)__\n",
    "\n",
    "**Please don't forget to \"Make a copy to my drive!!!\" - since if you don't, all your modifications will be temporary, you will loose your work!**"
   ]
  },
  {
   "cell_type": "markdown",
   "metadata": {},
   "source": [
    "# Measurement of performance\n",
    "\n",
    "Total number of marks:\n",
    "\n",
    "| Asessment                 | Points          | Timing                                               |\n",
    "|---------------------------|-----------------|------------------------------------------------------|\n",
    "| Continuous assignments     | 50              | Throughout the course (2 weeks after respective class)|\n",
    "| Group work                | 50              | 4 weeks after the course has finished                |\n",
    "| Multiple choce exam       | 20              | 20 minutes 5 Minutes initial reading time            |\n",
    "\n",
    "\n",
    "\n",
    "## Continuous assignments (and their submission)\n",
    "- For each block there is at least one assignment, which you should usually be able to complete after the class\n",
    "- The  assignments have to be uploaded in canvas (a pdf of the relevant Jupyter Notebook AND the Jupyter Notebook itself), no later than end of day (Frankfurt time) 14 days after the respective class  \n",
    "- Make sure the PDF does not have the text cut off on the sides or in the cells (that all the relevant results are shown)\n",
    "- You pass the assignment, when you have passed the basic assertions, which you can see as part of most assignments\n",
    "- Start early with the assignments, i.e. when we have covered the respective material in the class\n",
    "- You can help each other out with the continuous assignments, e.g. help a colleague to debug their code, but *you must not directly copy and paste code from others*. Such behaviour is plagiarism and will be awarded 0 marks\n",
    "\n",
    "\n",
    "## Final assignment (group submission)\n",
    "- The final assignment will be released during the class\n",
    "- The fial assignment has to be uploaded in canvas (a pdf of the relevant Jupyter Notebook AND the Jupyter Notebook itself), no later than end of day (Frankfurt time) 28 days after the respective class  \n",
    "- Make sure the PDF does not have the text cut off on the sides or in the cells\n",
    "\n",
    "## Penalty for late submission\n",
    "- For every day that you submit late there is a 10% deduction of your final grade\n",
    "- Rounding up will be applied for later submission, e.g. if you submit one hour late this will count as the first day\n",
    "\n",
    "\n",
    "## Multiple choice exam\n",
    "- During Exam Week at the end of the class\n",
    "- Canvas multiple choice exam (bring your computer)"
   ]
  },
  {
   "cell_type": "code",
   "execution_count": null,
   "metadata": {},
   "outputs": [],
   "source": []
  }
 ],
 "metadata": {
  "kernelspec": {
   "display_name": "Python 3 (ipykernel)",
   "language": "python",
   "name": "python3"
  },
  "language_info": {
   "codemirror_mode": {
    "name": "ipython",
    "version": 3
   },
   "file_extension": ".py",
   "mimetype": "text/x-python",
   "name": "python",
   "nbconvert_exporter": "python",
   "pygments_lexer": "ipython3",
   "version": "3.10.9"
  },
  "toc": {
   "base_numbering": 1,
   "nav_menu": {},
   "number_sections": true,
   "sideBar": true,
   "skip_h1_title": false,
   "title_cell": "Table of Contents",
   "title_sidebar": "Contents",
   "toc_cell": false,
   "toc_position": {},
   "toc_section_display": true,
   "toc_window_display": false
  },
  "varInspector": {
   "cols": {
    "lenName": 16,
    "lenType": 16,
    "lenVar": 40
   },
   "kernels_config": {
    "python": {
     "delete_cmd_postfix": "",
     "delete_cmd_prefix": "del ",
     "library": "var_list.py",
     "varRefreshCmd": "print(var_dic_list())"
    },
    "r": {
     "delete_cmd_postfix": ") ",
     "delete_cmd_prefix": "rm(",
     "library": "var_list.r",
     "varRefreshCmd": "cat(var_dic_list()) "
    }
   },
   "types_to_exclude": [
    "module",
    "function",
    "builtin_function_or_method",
    "instance",
    "_Feature"
   ],
   "window_display": false
  }
 },
 "nbformat": 4,
 "nbformat_minor": 2
}
