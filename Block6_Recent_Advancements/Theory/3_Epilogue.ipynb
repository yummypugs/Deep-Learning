{
 "cells": [
  {
   "cell_type": "markdown",
   "metadata": {
    "colab_type": "text",
    "id": "KvFr7af9sAAf"
   },
   "source": [
    "# Are we done?\n",
    "\n",
    "**NO!**\n",
    "\n",
    "**By no means!!!**\n",
    "\n",
    "As you saw, tha field is _huge_, and dynamicly evolving. Noone is \"done\", not even \"The Old Ones\". :-)\n",
    "\n",
    "The big question is:\n",
    "\n",
    "# How to learn further, and follow, what happens in the field?\n",
    "\n",
    "## Problem 1: Total amount of papers / speed\n",
    "\n",
    "<img src=\"https://thumbor.forbes.com/thumbor/960x0/https%3A%2F%2Fblogs-images.forbes.com%2Flouiscolumbus%2Ffiles%2F2018%2F01%2Fannually-published-papers.jpg\" width=600 heigth=600>\n",
    "\n",
    "More [here](https://www.forbes.com/sites/louiscolumbus/2018/01/12/10-charts-that-will-change-your-perspective-on-artificial-intelligences-growth/#384b45647583)\n",
    "\n",
    "### Moreover it is mainly Open Science\n",
    "\n",
    "<img src=\"https://upload.wikimedia.org/wikipedia/commons/thumb/a/a8/ArXiv_web.svg/500px-ArXiv_web.svg.png\" width=300 heigth=300>\n",
    "\n",
    "**Source: [arXiv](https://arxiv.org/)** \n",
    "\n",
    "## Solution: Use a filter!\n",
    "\n",
    "### [Arxiv Sanity preserver]()\n",
    "\n",
    "Personal recommender engine for browsing ArXiv. Yes, that's right, an AI-searching-AI-searching... ... :-P\n",
    "\n",
    "<img src=\"https://camo.githubusercontent.com/cd467093cba639a7fc914e369f47ecad0ca16ded/68747470733a2f2f7261772e6769746875622e636f6d2f6b617270617468792f61727869762d73616e6974792d7072657365727665722f6d61737465722f75692e6a706567\" width=600 heigth=600>\n",
    "\n",
    "\n",
    "Demonstration [here](https://www.youtube.com/watch?v=S2GY3gh6qC8&feature=youtu.be)\n",
    "\n",
    "\n",
    "### Community as a filter\n",
    "\n",
    "- Follow influencers on Twitteren, Facebookon or LinkedIn\n",
    "  - Either \"the great\" - whom we mentioned (Hinton, LeCun, Bengio, Ng, Schmidhuber, Hochreiter, Sutskever, Goodfellow, Larochelle, Karpathy, ... ...)\n",
    "  - Someone who's paper you have read and found valuable\n",
    "  - Or from a list (not too good, but there is many of them :-)\n",
    "- \"[THE Facebook group\"](https://www.facebook.com/groups/DeepNetGroup/) (173k members and counting...) \n",
    "\n",
    "## Problem 2.: Complexity of an individual paper\n",
    "\n",
    "<img src=\"https://cdn-images-1.medium.com/max/1400/1*OlOpTJNL3Zyf6MOaZO05lw.jpeg\" width=600 heigth=600>\n",
    "\n",
    "## (Potential) solution: Reading strategy (Only a subjective suggestion)\n",
    "\n",
    "A good approach for reading AI papers can be found [here](https://medium.com/ai-saturdays/how-to-read-academic-papers-without-freaking-out-3f7ef43a070f).\n",
    "\n",
    "<img src=\"https://askabiologist.asu.edu/sites/default/files/resources/articles/anatomy_of_an_article/anatomy_paper_diagram3.jpg\" width=600 heigth=600>\n",
    "\n",
    "**I. \"On the bus\"**\n",
    "1. Read the title (If uninteresting, stop)\n",
    "2. Read the abstract abstractot (If uninteresting, stop)\n",
    "3. Go directly to \"Results\" section, look for tables and figures which detail the results achieved in metrics(If uninteresting, stop)\n",
    "4. Store it to a reading list\n",
    "\n",
    "**II. \"When you have time\"**\n",
    "5. Refresh the abstract and results parts\n",
    "6. Skim through and try tu grasp the essence of the \"methods\" part\n",
    "  - What does it ommit? What is that you don't understand?\n",
    "  - What is the \"common assumption\"?\n",
    "7. Investigate the \"common assumption\" parts via the references. (They will lead you back to the \"Great Papers\")\n",
    "8. Take notes\n",
    "9. Watch the video or talk of the conference / paper / author (If possible...)\n",
    "10. Look for an implementation\n",
    "11. Repeat from 6. while not \"good\"!\n"
   ]
  },
  {
   "cell_type": "markdown",
   "metadata": {},
   "source": [
    "# Remeber: \n",
    "\n",
    "**This is just the beginning! :-)**\n",
    "\n",
    "**Thank you for your effort!**"
   ]
  }
 ],
 "metadata": {
  "kernelspec": {
   "display_name": "Python 3 (ipykernel)",
   "language": "python",
   "name": "python3"
  },
  "language_info": {
   "codemirror_mode": {
    "name": "ipython",
    "version": 3
   },
   "file_extension": ".py",
   "mimetype": "text/x-python",
   "name": "python",
   "nbconvert_exporter": "python",
   "pygments_lexer": "ipython3",
   "version": "3.10.9"
  },
  "toc": {
   "base_numbering": 1,
   "nav_menu": {},
   "number_sections": true,
   "sideBar": true,
   "skip_h1_title": false,
   "title_cell": "Table of Contents",
   "title_sidebar": "Contents",
   "toc_cell": false,
   "toc_position": {},
   "toc_section_display": true,
   "toc_window_display": false
  },
  "varInspector": {
   "cols": {
    "lenName": 16,
    "lenType": 16,
    "lenVar": 40
   },
   "kernels_config": {
    "python": {
     "delete_cmd_postfix": "",
     "delete_cmd_prefix": "del ",
     "library": "var_list.py",
     "varRefreshCmd": "print(var_dic_list())"
    },
    "r": {
     "delete_cmd_postfix": ") ",
     "delete_cmd_prefix": "rm(",
     "library": "var_list.r",
     "varRefreshCmd": "cat(var_dic_list()) "
    }
   },
   "types_to_exclude": [
    "module",
    "function",
    "builtin_function_or_method",
    "instance",
    "_Feature"
   ],
   "window_display": false
  }
 },
 "nbformat": 4,
 "nbformat_minor": 2
}
